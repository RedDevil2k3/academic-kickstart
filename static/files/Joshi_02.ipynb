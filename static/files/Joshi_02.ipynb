{
 "cells": [
  {
   "cell_type": "markdown",
   "metadata": {},
   "source": [
    "# Assignment_02"
   ]
  },
  {
   "cell_type": "code",
   "execution_count": 16,
   "metadata": {},
   "outputs": [],
   "source": [
    "%matplotlib inline"
   ]
  },
  {
   "cell_type": "code",
   "execution_count": 17,
   "metadata": {},
   "outputs": [],
   "source": [
    "import matplotlib.pyplot as plt\n",
    "import numpy as np\n",
    "import pandas as pd\n",
    "from typing import Callable"
   ]
  },
  {
   "cell_type": "code",
   "execution_count": 18,
   "metadata": {},
   "outputs": [],
   "source": [
    "pd.options.display.precision = 4"
   ]
  },
  {
   "cell_type": "code",
   "execution_count": 19,
   "metadata": {},
   "outputs": [],
   "source": [
    "def cross_valid(df: pd.DataFrame, k):\n",
    "    n = df.shape[0] // k\n",
    "    for i in range(0, df.shape[0], n):\n",
    "        test = df.iloc[i:i + n]\n",
    "        trainer = df.drop(test.index)\n",
    "        yield trainer.copy(), test.copy()\n",
    "\n",
    "class iris_data:\n",
    "    row_feat: list = ['sepal length', 'sepal width', 'petal length', 'petal width']\n",
    "    columns: list = row_feat + ['class']\n",
    "\n",
    "    def __init__(self, df, trainer, devlop, test):\n",
    "        self._df: pd.DataFrame = df.copy()\n",
    "        self.trainer: pd.DataFrame = trainer.copy()\n",
    "        self.devlop: pd.DataFrame = devlop.copy()\n",
    "        self.test: pd.DataFrame = test.copy()\n",
    "        self.min = self.test[self.row_feat].min()\n",
    "        self.max = self.test[self.row_feat].max()\n",
    "\n",
    "    @classmethod\n",
    "    def reader(cls, filename: str, splits = 5, trainer_devlop_split = 0.80):\n",
    "        df = pd.read_csv(filename, header=None, names=cls.columns)\n",
    "        randomise = df.sample(frac=1)\n",
    "        for trainer, test in cross_valid(randomise, splits):\n",
    "            devlop = trainer.sample(frac=1 - trainer_devlop_split)\n",
    "            trainer = trainer.drop(devlop.index)\n",
    "\n",
    "            yield cls(randomise, trainer, devlop, test)\n",
    "\n",
    "    def post_norm(self):\n",
    "        outcome = self.copy()\n",
    "        for df in (outcome._df, outcome.trainer, outcome.devlop, outcome.test):\n",
    "            df[outcome.row_feat] = (df[outcome.row_feat] - outcome.min) / (outcome.max - outcome.min) \n",
    "\n",
    "        return outcome           \n",
    "\n",
    "    def norm(self, pointers: np.ndarray):\n",
    "        return (pointers - self.min.to_numpy()) / (self.max.to_numpy() - self.min.to_numpy())        \n",
    "\n",
    "    def copy(self):\n",
    "        return iris_data(self._df, self.trainer, self.devlop, self.test)       "
   ]
  },
  {
   "cell_type": "code",
   "execution_count": 20,
   "metadata": {},
   "outputs": [],
   "source": [
    "class knn:\n",
    "    def __init__(self, data: iris_data, dist_calc: Callable[[np.ndarray, np.ndarray], float]):\n",
    "        self.data: iris_data = data.copy()\n",
    "        self.dist_calc = dist_calc\n",
    "        self.prediction = pd.concat([self.data.trainer, self.data.devlop])\n",
    "\n",
    "    def predictor(self, pointer: np.ndarray, k):\n",
    "        return self._predictor_internal(self.prediction, pointer, k)\n",
    "\n",
    "    def result_accuracy(self, k):\n",
    "        pointers = self.data.test[self.data.row_feat].to_numpy()\n",
    "        reward = 0\n",
    "        for i, pointer in enumerate(pointers):\n",
    "            \n",
    "            pred_data= self.predictor(pointer, k)\n",
    "            real_data = self.data.test['class'].iloc[i]\n",
    "            \n",
    "            if pred_data== real_data:\n",
    "                reward += 1\n",
    "\n",
    "        return reward / pointers.shape[0]\n",
    "\n",
    "    def local_accuracy(self, k):\n",
    "        pointers = self.data.devlop[self.data.row_feat].to_numpy()\n",
    "        reward = 0\n",
    "        for i, pointer in enumerate(pointers):\n",
    "            \n",
    "            pred_data= self._predictor_internal(self.data.trainer, pointer, k)\n",
    "            real_data = self.data.devlop['class'].iloc[i]\n",
    "            \n",
    "            if pred_data == real_data:\n",
    "                reward += 1\n",
    "\n",
    "        return reward / pointers.shape[0]\n",
    "\n",
    "    def _predictor_internal(self, data, pointer: np.ndarray, k):\n",
    "        dist = data[self.data.row_feat].to_numpy()\n",
    "        dist_transform = lambda x: self.dist_calc(x, pointer)\n",
    "        dist = np.apply_along_axis(dist_transform, 1, dist)\n",
    "\n",
    "        neighbors = data.assign(d=dist).nsmallest(k, 'd')\n",
    "        return neighbors['class'].mode()[0]"
   ]
  },
  {
   "cell_type": "code",
   "execution_count": 21,
   "metadata": {},
   "outputs": [],
   "source": [
    "def l2norm(p):\n",
    "    return np.sqrt(np.sum(p ** 2))\n",
    "\n",
    "\n",
    "def euclidean_dist(p1, p2):\n",
    "    return l2norm(p1 - p2)\n",
    "\n",
    "\n",
    "def cosine_dist(p1, p2):\n",
    "    sim = np.dot(p1, p2) / (l2norm(p1) * l2norm(p2))\n",
    "    return 1 - sim"
   ]
  },
  {
   "cell_type": "code",
   "execution_count": 22,
   "metadata": {
    "scrolled": true
   },
   "outputs": [
    {
     "name": "stdout",
     "output_type": "stream",
     "text": [
      "Train Data       = (84, 5)\n",
      "Development Data = (36, 5)\n",
      "Test Data        = (30, 5)\n"
     ]
    }
   ],
   "source": [
    "datasets = list(iris_data.reader('iris.data', 5, 0.70))\n",
    "\n",
    "print(f'Train Data       = {datasets[0].trainer.shape}')\n",
    "print(f'Development Data = {datasets[0].devlop.shape}')\n",
    "print(f'Test Data        = {datasets[0].test.shape}')"
   ]
  },
  {
   "cell_type": "markdown",
   "metadata": {},
   "source": [
    "creating 3 models for distance calculation\n"
   ]
  },
  {
   "cell_type": "code",
   "execution_count": 23,
   "metadata": {},
   "outputs": [],
   "source": [
    "all_models = {\n",
    "    'euclidean': [],\n",
    "    'normalized euclidean': [],\n",
    "    'cosine similarity': [],\n",
    "}\n",
    "for data in datasets:\n",
    "    all_models['euclidean'].append(knn(data, euclidean_dist))\n",
    "    all_models['normalized euclidean'].append(knn(data.post_norm(), euclidean_dist))\n",
    "    all_models['cosine similarity'].append(knn(data, cosine_dist))"
   ]
  },
  {
   "cell_type": "code",
   "execution_count": 24,
   "metadata": {},
   "outputs": [],
   "source": [
    "hyper_params = [1, 3, 5, 7]"
   ]
  },
  {
   "cell_type": "markdown",
   "metadata": {},
   "source": [
    "Values of k as 1,3,5,7\n",
    "\n"
   ]
  },
  {
   "cell_type": "code",
   "execution_count": 25,
   "metadata": {},
   "outputs": [],
   "source": [
    "accuracy = pd.DataFrame(columns=all_models.keys(), index=hyper_params)\n",
    "for mdl_name, models in all_models.items():\n",
    "    for k in hyper_params:\n",
    "        accuracies = [mdl.local_accuracy(k) for mdl in models]\n",
    "        accuracy.at[k, mdl_name] = np.average(accuracies)"
   ]
  },
  {
   "cell_type": "code",
   "execution_count": 26,
   "metadata": {},
   "outputs": [
    {
     "data": {
      "image/png": "[encoded data removed]",
      "text/plain": [
       "<Figure size 432x288 with 3 Axes>"
      ]
     },
     "metadata": {
      "needs_background": "light"
     },
     "output_type": "display_data"
    }
   ],
   "source": [
    "accuracy.plot(subplots = True)\n",
    "plt.legend(loc=2)\n",
    "plt.show()"
   ]
  },
  {
   "cell_type": "code",
   "execution_count": 27,
   "metadata": {},
   "outputs": [
    {
     "data": {
      "text/html": [
       "<div>\n",
       "<style scoped>\n",
       "    .dataframe tbody tr th:only-of-type {\n",
       "        vertical-align: middle;\n",
       "    }\n",
       "\n",
       "    .dataframe tbody tr th {\n",
       "        vertical-align: top;\n",
       "    }\n",
       "\n",
       "    .dataframe thead th {\n",
       "        text-align: right;\n",
       "    }\n",
       "</style>\n",
       "<table border=\"1\" class=\"dataframe\">\n",
       "  <thead>\n",
       "    <tr style=\"text-align: right;\">\n",
       "      <th></th>\n",
       "      <th>euclidean</th>\n",
       "      <th>normalized euclidean</th>\n",
       "      <th>cosine similarity</th>\n",
       "    </tr>\n",
       "  </thead>\n",
       "  <tbody>\n",
       "    <tr>\n",
       "      <th>1</th>\n",
       "      <td>0.9722</td>\n",
       "      <td>0.9667</td>\n",
       "      <td>0.9667</td>\n",
       "    </tr>\n",
       "    <tr>\n",
       "      <th>3</th>\n",
       "      <td>0.95</td>\n",
       "      <td>0.9444</td>\n",
       "      <td>0.9889</td>\n",
       "    </tr>\n",
       "    <tr>\n",
       "      <th>5</th>\n",
       "      <td>0.9611</td>\n",
       "      <td>0.9556</td>\n",
       "      <td>0.9833</td>\n",
       "    </tr>\n",
       "    <tr>\n",
       "      <th>7</th>\n",
       "      <td>0.9667</td>\n",
       "      <td>0.9611</td>\n",
       "      <td>0.9778</td>\n",
       "    </tr>\n",
       "  </tbody>\n",
       "</table>\n",
       "</div>"
      ],
      "text/plain": [
       "  euclidean normalized euclidean cosine similarity\n",
       "1    0.9722               0.9667            0.9667\n",
       "3      0.95               0.9444            0.9889\n",
       "5    0.9611               0.9556            0.9833\n",
       "7    0.9667               0.9611            0.9778"
      ]
     },
     "execution_count": 27,
     "metadata": {},
     "output_type": "execute_result"
    }
   ],
   "source": [
    "accuracy"
   ]
  },
  {
   "cell_type": "markdown",
   "metadata": {},
   "source": [
    "Accuracy against test data."
   ]
  },
  {
   "cell_type": "code",
   "execution_count": 28,
   "metadata": {},
   "outputs": [],
   "source": [
    "result_accuracy = pd.DataFrame(columns=all_models.keys(), index=hyper_params)\n",
    "for mdl_name, models in all_models.items():\n",
    "    for k in hyper_params:\n",
    "        accuracies = [mdl.result_accuracy(k) for mdl in models]\n",
    "        result_accuracy.at[k, mdl_name] = np.average(accuracies)"
   ]
  },
  {
   "cell_type": "code",
   "execution_count": 29,
   "metadata": {},
   "outputs": [
    {
     "data": {
      "image/png": "[encoded data removed]",
      "text/plain": [
       "<Figure size 432x288 with 3 Axes>"
      ]
     },
     "metadata": {
      "needs_background": "light"
     },
     "output_type": "display_data"
    }
   ],
   "source": [
    "result_accuracy.plot(subplots = True)\n",
    "plt.legend(loc=2)\n",
    "plt.show()"
   ]
  },
  {
   "cell_type": "code",
   "execution_count": 30,
   "metadata": {
    "scrolled": true
   },
   "outputs": [
    {
     "data": {
      "text/html": [
       "<div>\n",
       "<style scoped>\n",
       "    .dataframe tbody tr th:only-of-type {\n",
       "        vertical-align: middle;\n",
       "    }\n",
       "\n",
       "    .dataframe tbody tr th {\n",
       "        vertical-align: top;\n",
       "    }\n",
       "\n",
       "    .dataframe thead th {\n",
       "        text-align: right;\n",
       "    }\n",
       "</style>\n",
       "<table border=\"1\" class=\"dataframe\">\n",
       "  <thead>\n",
       "    <tr style=\"text-align: right;\">\n",
       "      <th></th>\n",
       "      <th>euclidean</th>\n",
       "      <th>normalized euclidean</th>\n",
       "      <th>cosine similarity</th>\n",
       "    </tr>\n",
       "  </thead>\n",
       "  <tbody>\n",
       "    <tr>\n",
       "      <th>1</th>\n",
       "      <td>0.96</td>\n",
       "      <td>0.96</td>\n",
       "      <td>0.9667</td>\n",
       "    </tr>\n",
       "    <tr>\n",
       "      <th>3</th>\n",
       "      <td>0.96</td>\n",
       "      <td>0.9533</td>\n",
       "      <td>0.9667</td>\n",
       "    </tr>\n",
       "    <tr>\n",
       "      <th>5</th>\n",
       "      <td>0.9533</td>\n",
       "      <td>0.9533</td>\n",
       "      <td>0.9667</td>\n",
       "    </tr>\n",
       "    <tr>\n",
       "      <th>7</th>\n",
       "      <td>0.9667</td>\n",
       "      <td>0.9467</td>\n",
       "      <td>0.9733</td>\n",
       "    </tr>\n",
       "  </tbody>\n",
       "</table>\n",
       "</div>"
      ],
      "text/plain": [
       "  euclidean normalized euclidean cosine similarity\n",
       "1      0.96                 0.96            0.9667\n",
       "3      0.96               0.9533            0.9667\n",
       "5    0.9533               0.9533            0.9667\n",
       "7    0.9667               0.9467            0.9733"
      ]
     },
     "execution_count": 30,
     "metadata": {},
     "output_type": "execute_result"
    }
   ],
   "source": [
    "result_accuracy"
   ]
  },
  {
   "cell_type": "markdown",
   "metadata": {},
   "source": [
    "Accuracy on test data."
   ]
  }
 ],
 "metadata": {
  "kernelspec": {
   "display_name": "Python 3",
   "language": "python",
   "name": "python3"
  },
  "language_info": {
   "codemirror_mode": {
    "name": "ipython",
    "version": 3
   },
   "file_extension": ".py",
   "mimetype": "text/x-python",
   "name": "python",
   "nbconvert_exporter": "python",
   "pygments_lexer": "ipython3",
   "version": "3.8.5"
  },
  "latex_envs": {
   "LaTeX_envs_menu_present": true,
   "autoclose": true,
   "autocomplete": true,
   "bibliofile": "biblio.bib",
   "cite_by": "apalike",
   "current_citInitial": 1,
   "eqLabelWithNumbers": true,
   "eqNumInitial": 1,
   "hotkeys": {
    "equation": "Ctrl-E",
    "itemize": "Ctrl-I"
   },
   "labels_anchors": false,
   "latex_user_defs": false,
   "report_style_numbering": false,
   "user_envs_cfg": false
  }
 },
 "nbformat": 4,
 "nbformat_minor": 2
}
